{
 "cells": [
  {
   "cell_type": "code",
   "execution_count": 1,
   "metadata": {},
   "outputs": [],
   "source": [
    "import numpy as np\n",
    "import time"
   ]
  },
  {
   "cell_type": "markdown",
   "metadata": {},
   "source": [
    "## eg"
   ]
  },
  {
   "cell_type": "code",
   "execution_count": 15,
   "metadata": {},
   "outputs": [],
   "source": [
    "a=np.random.rand(1000000)\n",
    "b=np.random.rand(1000000)\n"
   ]
  },
  {
   "cell_type": "markdown",
   "metadata": {},
   "source": [
    "non-vectorization"
   ]
  },
  {
   "cell_type": "code",
   "execution_count": 25,
   "metadata": {},
   "outputs": [
    {
     "name": "stdout",
     "output_type": "stream",
     "text": [
      "250062.23724401137\n",
      "time:587.4423980712891ms\n"
     ]
    }
   ],
   "source": [
    "tick=time.time()\n",
    "c=0\n",
    "for i in range(1000000):\n",
    "    c+=a[i]*b[i]\n",
    "tock=time.time()\n",
    "print(c)\n",
    "print(\"time:\",(tock-tick)*1000,\"ms\",sep='')"
   ]
  },
  {
   "cell_type": "markdown",
   "metadata": {},
   "source": [
    "vectorization"
   ]
  },
  {
   "cell_type": "code",
   "execution_count": 123,
   "metadata": {},
   "outputs": [
    {
     "name": "stdout",
     "output_type": "stream",
     "text": [
      "time:0.9984970092773438ms\n"
     ]
    }
   ],
   "source": [
    "\n",
    "v_a=np.array(a)\n",
    "v_b=np.array(b)\n",
    "tick=time.time()\n",
    "z=np.dot(v_a,v_b)\n",
    "tock=time.time()\n",
    "print(\"time:\",(tock-tick)*1000,\"ms\",sep='')"
   ]
  },
  {
   "cell_type": "code",
   "execution_count": 84,
   "metadata": {},
   "outputs": [
    {
     "name": "stdout",
     "output_type": "stream",
     "text": [
      "time:0.9980201721191406ms\n"
     ]
    }
   ],
   "source": [
    "tick=time.time()\n",
    "z=np.dot(a,b)\n",
    "tock=time.time()\n",
    "print(\"time:\",(tock-tick)*1000,\"ms\",sep='')"
   ]
  },
  {
   "cell_type": "markdown",
   "metadata": {},
   "source": [
    "# eg"
   ]
  },
  {
   "cell_type": "code",
   "execution_count": 145,
   "metadata": {},
   "outputs": [
    {
     "name": "stdout",
     "output_type": "stream",
     "text": [
      "time:26.919126510620117ms\n"
     ]
    }
   ],
   "source": [
    "a=np.random.rand(10000)\n",
    "v=np.zeros((10000))\n",
    "tick=time.time()\n",
    "for i in range(10000):\n",
    "    v[i]=np.exp(a[i])\n",
    "tock=time.time()\n",
    "print('time:',(tock-tick)*1000,'ms',sep='')"
   ]
  },
  {
   "cell_type": "code",
   "execution_count": 146,
   "metadata": {},
   "outputs": [
    {
     "name": "stdout",
     "output_type": "stream",
     "text": [
      "time:0.9958744049072266ms\n"
     ]
    }
   ],
   "source": [
    "tick=time.time()\n",
    "z=np.exp(a)\n",
    "tock=time.time()\n",
    "print('time:',(tock-tick)*1000,'ms',sep='')"
   ]
  },
  {
   "cell_type": "code",
   "execution_count": 147,
   "metadata": {},
   "outputs": [
    {
     "data": {
      "text/plain": [
       "array([1.0060205 , 1.15321825, 2.00803258, ..., 1.88094869, 1.8304507 ,\n",
       "       2.09202775])"
      ]
     },
     "execution_count": 147,
     "metadata": {},
     "output_type": "execute_result"
    }
   ],
   "source": [
    "z"
   ]
  },
  {
   "cell_type": "code",
   "execution_count": 148,
   "metadata": {},
   "outputs": [
    {
     "data": {
      "text/plain": [
       "array([1.0060205 , 1.15321825, 2.00803258, ..., 1.88094869, 1.8304507 ,\n",
       "       2.09202775])"
      ]
     },
     "execution_count": 148,
     "metadata": {},
     "output_type": "execute_result"
    }
   ],
   "source": [
    "v"
   ]
  },
  {
   "cell_type": "markdown",
   "metadata": {},
   "source": [
    "# 广播"
   ]
  },
  {
   "cell_type": "code",
   "execution_count": 155,
   "metadata": {},
   "outputs": [],
   "source": [
    "import pandas as pd"
   ]
  },
  {
   "cell_type": "code",
   "execution_count": 167,
   "metadata": {},
   "outputs": [],
   "source": [
    "apple=pd.Series([56,1.2,1.8],index=['carb','protein','fat'])\n",
    "beef=pd.Series([0,104,35],index=['carb','protein','fat'])\n",
    "egg=pd.Series([4.4,52,99],index=['carb','protein','fat'])\n",
    "potato=pd.Series([68,8,0.9],index=['carb','protein','fat'])\n",
    "t=pd.DataFrame({'apple':apple,'beef':beef,'egg':egg,'potato':potato})"
   ]
  },
  {
   "cell_type": "code",
   "execution_count": 186,
   "metadata": {},
   "outputs": [
    {
     "name": "stdout",
     "output_type": "stream",
     "text": [
      "            apple      beef       egg    potato\n",
      "carb     0.949153  0.000000  0.028314  0.884265\n",
      "protein  0.020339  0.748201  0.334620  0.104031\n",
      "fat      0.030508  0.251799  0.637066  0.011704\n"
     ]
    }
   ],
   "source": [
    "weight=t.sum(axis=0)\n",
    "p=apple=t/weight\n",
    "print(p)"
   ]
  },
  {
   "cell_type": "code",
   "execution_count": 188,
   "metadata": {},
   "outputs": [
    {
     "name": "stdout",
     "output_type": "stream",
     "text": [
      "[[94.91525424  0.          2.83140283 88.42652796]\n",
      " [ 2.03389831 74.82014388 33.46203346 10.40312094]\n",
      " [ 3.05084746 25.17985612 63.70656371  1.17035111]]\n"
     ]
    }
   ],
   "source": [
    "data=np.array(t)\n",
    "all_weight=np.sum(data,axis=0)\n",
    "perc=data/all_weight.reshape(1,4)*100\n",
    "print(perc)"
   ]
  },
  {
   "cell_type": "markdown",
   "metadata": {},
   "source": [
    "# axis=0 y轴，axis=1：x轴"
   ]
  },
  {
   "cell_type": "code",
   "execution_count": 190,
   "metadata": {},
   "outputs": [
    {
     "name": "stdout",
     "output_type": "stream",
     "text": [
      "[[ 59.  139.  155.4  76.9]]\n"
     ]
    }
   ],
   "source": [
    "print(all_weight.reshape(1,4))"
   ]
  },
  {
   "cell_type": "code",
   "execution_count": 207,
   "metadata": {},
   "outputs": [
    {
     "data": {
      "text/plain": [
       "array([[ 1.        ,  1.        ,  1.        ,  1.        ],\n",
       "       [ 5.        ,  3.        ,  2.33333333,  2.        ],\n",
       "       [ 9.        ,  5.        ,  3.66666667,  3.        ],\n",
       "       [13.        ,  7.        ,  5.        ,  4.        ]])"
      ]
     },
     "execution_count": 207,
     "metadata": {},
     "output_type": "execute_result"
    }
   ],
   "source": [
    "x=np.array([[1,2],\n",
    "           [10,100]])\n",
    "y=np.array([[1,2,3,4],\n",
    "           [5,6,7,8],\n",
    "           [9,10,11,12],\n",
    "           [13,14,15,16]])\n",
    "z=[[1,2,3,4]]\n",
    "y/z"
   ]
  }
 ],
 "metadata": {
  "kernelspec": {
   "display_name": "Python 3",
   "language": "python",
   "name": "python3"
  },
  "language_info": {
   "codemirror_mode": {
    "name": "ipython",
    "version": 3
   },
   "file_extension": ".py",
   "mimetype": "text/x-python",
   "name": "python",
   "nbconvert_exporter": "python",
   "pygments_lexer": "ipython3",
   "version": "3.7.6"
  },
  "toc": {
   "base_numbering": 1,
   "nav_menu": {},
   "number_sections": true,
   "sideBar": true,
   "skip_h1_title": false,
   "title_cell": "Table of Contents",
   "title_sidebar": "Contents",
   "toc_cell": false,
   "toc_position": {},
   "toc_section_display": true,
   "toc_window_display": false
  }
 },
 "nbformat": 4,
 "nbformat_minor": 4
}
