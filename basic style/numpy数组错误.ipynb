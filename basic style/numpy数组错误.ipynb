{
 "cells": [
  {
   "cell_type": "code",
   "execution_count": 2,
   "metadata": {},
   "outputs": [
    {
     "name": "stdout",
     "output_type": "stream",
     "text": [
      "[0.11218994 0.5814916  0.82703109 0.6721107  0.05893309]\n",
      "(5,)\n"
     ]
    }
   ],
   "source": [
    "import numpy as np\n",
    "data=np.random.rand(5)\n",
    "print(data)\n",
    "print(data.shape)"
   ]
  },
  {
   "cell_type": "markdown",
   "metadata": {},
   "source": [
    "data既不是行向量，也不是列向量  \n",
    "rank 1 array"
   ]
  },
  {
   "cell_type": "code",
   "execution_count": 7,
   "metadata": {},
   "outputs": [
    {
     "name": "stdout",
     "output_type": "stream",
     "text": [
      "[0.11218994 0.5814916  0.82703109 0.6721107  0.05893309]\n",
      "[0.11218994 0.5814916  0.82703109 0.6721107  0.05893309]\n",
      "[ True  True  True  True  True]\n",
      "1.4899053905394222\n",
      "1.4899053905394222\n"
     ]
    }
   ],
   "source": [
    "print(data)\n",
    "print(data.T)\n",
    "print(data==data.T)\n",
    "print(np.dot(data,data))\n",
    "print(np.dot(data,data.T))"
   ]
  },
  {
   "cell_type": "code",
   "execution_count": 10,
   "metadata": {
    "scrolled": true
   },
   "outputs": [
    {
     "name": "stdout",
     "output_type": "stream",
     "text": [
      "[[0.34640595]\n",
      " [0.39071213]\n",
      " [0.69022793]\n",
      " [0.97804635]\n",
      " [0.87650712]] [[0.34640595 0.39071213 0.69022793 0.97804635 0.87650712]]\n",
      "[[2.47390705]]\n",
      "[[0.11999708 0.13534501 0.23909906 0.33880108 0.30362728]\n",
      " [0.13534501 0.15265597 0.26968042 0.38213457 0.34246196]\n",
      " [0.23909906 0.26968042 0.4764146  0.67507491 0.6049897 ]\n",
      " [0.33880108 0.38213457 0.67507491 0.95657467 0.8572646 ]\n",
      " [0.30362728 0.34246196 0.6049897  0.8572646  0.76826474]]\n"
     ]
    }
   ],
   "source": [
    "data1=np.random.rand(5,1)\n",
    "print(data1,data1.T)\n",
    "print(np.dot(data1.T,data1))\n",
    "print(np.dot(data1,data1.T))"
   ]
  },
  {
   "cell_type": "markdown",
   "metadata": {},
   "source": [
    "确保正确"
   ]
  },
  {
   "cell_type": "code",
   "execution_count": 16,
   "metadata": {},
   "outputs": [],
   "source": [
    "assert(data1.shape==(5,1))"
   ]
  },
  {
   "cell_type": "code",
   "execution_count": 21,
   "metadata": {},
   "outputs": [],
   "source": [
    "assert(data.shape==(5,))"
   ]
  }
 ],
 "metadata": {
  "kernelspec": {
   "display_name": "Python 3",
   "language": "python",
   "name": "python3"
  },
  "language_info": {
   "codemirror_mode": {
    "name": "ipython",
    "version": 3
   },
   "file_extension": ".py",
   "mimetype": "text/x-python",
   "name": "python",
   "nbconvert_exporter": "python",
   "pygments_lexer": "ipython3",
   "version": "3.7.6"
  },
  "toc": {
   "base_numbering": 1,
   "nav_menu": {},
   "number_sections": true,
   "sideBar": true,
   "skip_h1_title": false,
   "title_cell": "Table of Contents",
   "title_sidebar": "Contents",
   "toc_cell": false,
   "toc_position": {},
   "toc_section_display": true,
   "toc_window_display": false
  }
 },
 "nbformat": 4,
 "nbformat_minor": 4
}
