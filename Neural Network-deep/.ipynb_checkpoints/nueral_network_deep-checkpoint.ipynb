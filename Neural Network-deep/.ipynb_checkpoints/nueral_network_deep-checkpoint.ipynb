{
 "cells": [
  {
   "cell_type": "code",
   "execution_count": 74,
   "metadata": {},
   "outputs": [],
   "source": [
    "import numpy as np"
   ]
  },
  {
   "cell_type": "markdown",
   "metadata": {},
   "source": [
    "# initialize parameters"
   ]
  },
  {
   "cell_type": "markdown",
   "metadata": {},
   "source": [
    "## 2-layer neural network"
   ]
  },
  {
   "cell_type": "markdown",
   "metadata": {},
   "source": [
    "forword propagation: Linear->Relu->Linear->sigmoid"
   ]
  },
  {
   "cell_type": "code",
   "execution_count": 75,
   "metadata": {},
   "outputs": [],
   "source": [
    "def initialize_parameters(n_x,n_h,n_y):\n",
    "    \"\"\"\n",
    "    Returns:\n",
    "    params:\n",
    "    W1:(n_h,n_x)\n",
    "    b1:(n_h,1)\n",
    "    W2:(n_y,n_h)\n",
    "    b2:(n_y,1)\n",
    "    \"\"\"\n",
    "    W1=np.random.randn(n_h,n_x)*0.01\n",
    "    b1=np.zeros((n_h,1))\n",
    "    W2=np.random.randn(n_y,n_h)*0.01\n",
    "    b2=np.zeros((n_y,1))\n",
    "    \n",
    "    params={'W1':W1,\n",
    "            'W2':W2,\n",
    "            'b1':b1,\n",
    "            'b2':b2}\n",
    "    \n",
    "    return params"
   ]
  },
  {
   "cell_type": "markdown",
   "metadata": {},
   "source": [
    "## deep neural network"
   ]
  },
  {
   "cell_type": "markdown",
   "metadata": {},
   "source": [
    "forword propagation: [Linear->Relu]*(L-1)->Linear->sigmoid"
   ]
  },
  {
   "cell_type": "markdown",
   "metadata": {},
   "source": [
    "layer_dims=[2,4,1]  \n",
    "  \n",
    "the size of input is 2  \n",
    "There is only one hidden layer which has a size of 4  \n",
    "the size of output is 1"
   ]
  },
  {
   "cell_type": "code",
   "execution_count": 76,
   "metadata": {},
   "outputs": [],
   "source": [
    "def initialize_parameters_deep(layer_dims):\n",
    "    \"\"\"\n",
    "    Returns:\n",
    "    paramters  W,b\n",
    "    \"\"\"\n",
    "    L=len(layer_dims)-1\n",
    "    parameters={}\n",
    "    \n",
    "    for layer in range(1,L+1):\n",
    "        parameters['W'+str(layer)]=np.random.rand(layer_dims[L],layer_dims[L-1])*0.01\n",
    "        parameters['b'+str(layer)]=np.random.rand(layer_dims[L],1)\n",
    "    return parameters   \n"
   ]
  },
  {
   "cell_type": "markdown",
   "metadata": {},
   "source": [
    "# forward propagation"
   ]
  },
  {
   "cell_type": "markdown",
   "metadata": {},
   "source": [
    "## linear_forward+cache(A,W,b)"
   ]
  },
  {
   "cell_type": "code",
   "execution_count": 77,
   "metadata": {},
   "outputs": [],
   "source": [
    "def linear_forward(W,A,b):\n",
    "    \"\"\"\n",
    "    Z[l]=W[l]*A[l-1]+b[l]\n",
    "    \n",
    "    Argument:\n",
    "    A:output of layer l-1   (n_l-1,m)\n",
    "    W:(n[l],n[l-1])\n",
    "    b:(n[l],m)\n",
    "   \n",
    "    Returns:\n",
    "    Z: \n",
    "    cache: (A,W,b)\n",
    "    \"\"\"\n",
    "    \n",
    "    Z=np.dot(W,A)+b#(n[l],m)\n",
    "    \n",
    "    cache=(A,W,b)\n",
    "    return Z,cache\n"
   ]
  },
  {
   "cell_type": "markdown",
   "metadata": {},
   "source": [
    "## activation function+cache(Z)"
   ]
  },
  {
   "cell_type": "markdown",
   "metadata": {},
   "source": [
    "### sigmoid"
   ]
  },
  {
   "cell_type": "code",
   "execution_count": 78,
   "metadata": {},
   "outputs": [],
   "source": [
    "def sigmoid(Z):\n",
    "    \"\"\"\n",
    "    Returns:\n",
    "    A\n",
    "    cache: (Z,)\n",
    "    \"\"\"\n",
    "    A=1/(1+np.exp(-Z))\n",
    "    cache=(Z,)\n",
    "    return A,cache"
   ]
  },
  {
   "cell_type": "markdown",
   "metadata": {},
   "source": [
    "### Relu"
   ]
  },
  {
   "cell_type": "code",
   "execution_count": 144,
   "metadata": {},
   "outputs": [],
   "source": [
    "def relu(Z):\n",
    "    \"\"\"\n",
    "    Returns:\n",
    "    A\n",
    "    cache:(Z,)\n",
    "    \"\"\"\n",
    "    A=np.where(Z>0,Z,0)\n",
    "    cache=(Z,)\n",
    "    return A,cache"
   ]
  },
  {
   "cell_type": "markdown",
   "metadata": {},
   "source": [
    "## Linear activation forward"
   ]
  },
  {
   "cell_type": "code",
   "execution_count": 80,
   "metadata": {},
   "outputs": [],
   "source": [
    "def linear_activation_forward(A_previous,W,b,activation):\n",
    "    \"\"\"\n",
    "    Argument:\n",
    "    \n",
    "    Activation: either 'sigmoid' or 'relu'\n",
    "    \n",
    "    Returns:\n",
    "    A\n",
    "    cache:(linear_cache,activation_cache) = ((A,W,b),(Z,))\n",
    "    \n",
    "    \"\"\"\n",
    "    if activation=='sigmoid':\n",
    "        Z,linear_cache=linear_forward(W,A_previous,b)\n",
    "        A,activation_cache=sigmoid(Z)\n",
    "    if activation=='relu':\n",
    "        Z,linear_cache=linear_forward(W,A_previous,b)\n",
    "        A,activation_cache=relu(Z)\n",
    "        \n",
    "    cache=(linear_cache,activation_cache)\n",
    "    return A,cache\n",
    "        "
   ]
  },
  {
   "cell_type": "markdown",
   "metadata": {},
   "source": [
    "## overall forward"
   ]
  },
  {
   "cell_type": "code",
   "execution_count": 81,
   "metadata": {},
   "outputs": [],
   "source": [
    "def L_model_forward(X,parameters):\n",
    "    \"\"\"\n",
    "    Returns:\n",
    "    caches: list of all cache\n",
    "    AL: A of layer L\n",
    "    \"\"\"\n",
    "    caches=[]\n",
    "    A=X\n",
    "    L=len(parameters)//2\n",
    "    \n",
    "    for layer in range(1,L):\n",
    "        A,cache=linear_activation_forward(A,parameters['W'+str(layer)],parameters['b'+str(layer)],'relu')\n",
    "        caches.append(cache)\n",
    "    \n",
    "    AL,cache=linear_activation_forward(A,parameters['W'+str(L)],parameters['b'+str(L)],'sigmoid')\n",
    "    caches.append(cache)\n",
    "    \n",
    "    return AL,caches"
   ]
  },
  {
   "cell_type": "markdown",
   "metadata": {},
   "source": [
    "# compute cost"
   ]
  },
  {
   "cell_type": "code",
   "execution_count": 82,
   "metadata": {},
   "outputs": [],
   "source": [
    "def compute_cost(AL,Y):\n",
    "    \"\"\"\n",
    "    Argument:\n",
    "    AL: A(output of layer L)  (n[L],m)\n",
    "    Y:  (n[L],m)\n",
    "    \n",
    "    Returns:\n",
    "    cost\n",
    "    \"\"\"\n",
    "    m=Y.shape[1]\n",
    "    cost=-1/m*(np.dot(Y,np.log(AL.T))+np.dot(1-Y,np.log(1-AL.T)))\n",
    "    cost=np.squeeze(cost)\n",
    "    return cost\n",
    "    "
   ]
  },
  {
   "cell_type": "markdown",
   "metadata": {},
   "source": [
    "# backward propagation"
   ]
  },
  {
   "cell_type": "markdown",
   "metadata": {},
   "source": [
    "## linear backward"
   ]
  },
  {
   "cell_type": "code",
   "execution_count": 161,
   "metadata": {},
   "outputs": [],
   "source": [
    "def linear_backward(dZ,cache):\n",
    "    \n",
    "    \"\"\"\n",
    "    Argument:\n",
    "    dZ\n",
    "    cache:(A,W,b)\n",
    "    \n",
    "    Returns:\n",
    "    dA_prev\n",
    "    dW\n",
    "    db\n",
    "    \"\"\"\n",
    "    m=dZ.shape[1]\n",
    "    A_prev,W,b=cache\n",
    "    dW=1/m*np.dot(dZ,A_prev.T)\n",
    "    db=1/m*np.sum(dZ,axis=1,keepdims=True)\n",
    "    dA_prev=np.dot(W.T,dZ)\n",
    "    \n",
    "    return dA_prev,dW,db"
   ]
  },
  {
   "cell_type": "markdown",
   "metadata": {},
   "source": [
    "## linear acivation backward"
   ]
  },
  {
   "cell_type": "markdown",
   "metadata": {},
   "source": [
    "### sigmoid backward"
   ]
  },
  {
   "cell_type": "code",
   "execution_count": 159,
   "metadata": {},
   "outputs": [],
   "source": [
    "def sigmoid_backward(dA,activation_cache):\n",
    "    \"\"\"\n",
    "    Argument:\n",
    "    dA\n",
    "    activation_cache:(Z,)\n",
    "    Returns:\n",
    "    dZ\n",
    "    \"\"\"\n",
    "    Z=activation_cache[0]\n",
    "    s,temp=sigmoid(Z)\n",
    "    dZ=dA*s*(1-s)\n",
    "    assert(Z.shape==dZ.shape)\n",
    "    \n",
    "    return dZ\n",
    "    "
   ]
  },
  {
   "cell_type": "markdown",
   "metadata": {},
   "source": [
    "### Relu backward"
   ]
  },
  {
   "cell_type": "code",
   "execution_count": 164,
   "metadata": {},
   "outputs": [],
   "source": [
    "def relu_backward(dA,activation_cache):\n",
    "    \"\"\"\n",
    "    Argument:\n",
    "    activation_cache\n",
    "    Returns:\n",
    "    dZ\n",
    "    \"\"\"\n",
    "    Z=activation_cache[0]\n",
    "    \n",
    "    dZ=np.array(dA,copy=True)\n",
    "    dZ[Z<=0]=0\n",
    "\n",
    "    assert(Z.shape==dZ.shape)\n",
    "    \n",
    "    return dZ\n",
    "    "
   ]
  },
  {
   "cell_type": "code",
   "execution_count": 86,
   "metadata": {},
   "outputs": [],
   "source": [
    "def linear_activation_backward(dA,cache,activation):\n",
    "    \"\"\"\n",
    "    Argument:\n",
    "    dA,\n",
    "    cache:(linear_cache(W,A,b),activation_cache(Z,))\n",
    "    activation:either 'sigmoid' or 'relu'\n",
    "    \n",
    "    Returns:\n",
    "    dA_prev,dW,db\n",
    "    \"\"\"\n",
    "    \n",
    "    linear_cache,activation_cache=cache\n",
    "    \n",
    "    if activation=='relu':\n",
    "        dZ=relu_backward(dA,activation_cache)\n",
    "        dA_prev,dW,db=linear_backward(dZ,linear_cache)\n",
    "    if activation=='sigmoid':\n",
    "        dZ=sigmoid_backward(dA,activation_cache)\n",
    "        dA_prev,dW,db=linear_backward(dZ,linear_cache)\n",
    "    \n",
    "    return dA_prev,dW,db\n",
    "    "
   ]
  },
  {
   "cell_type": "markdown",
   "metadata": {},
   "source": [
    "## overall backward"
   ]
  },
  {
   "cell_type": "code",
   "execution_count": 87,
   "metadata": {},
   "outputs": [],
   "source": [
    "def L_model_backward(AL,Y,caches):\n",
    "    \"\"\"\n",
    "    Returns:\n",
    "    grads\n",
    "    \"\"\"\n",
    "    \n",
    "    grads={}\n",
    "    \n",
    "    L=len(caches)\n",
    "    \n",
    "    #derivative of cost with respect to AL\n",
    "    dAL=-(np.divide(Y,AL)-np.divide(1-Y,1-AL))\n",
    "    \n",
    "    dA_prev,dW,db=linear_activation_backward(dAL,caches[-1],'sigmoid')\n",
    "    grads['dA'+str(L)]=dA_prev\n",
    "    grads['dW'+str(L)]=dW\n",
    "    grads['db'+str(L)]=db\n",
    "    \n",
    "    for index in reversed(range(L-1)):\n",
    "        cache=caches[index]\n",
    "        dA_prev,dW,db=linear_activation_backward(grads['dA'+str(index+2)],cache,'relu')\n",
    "        grads['dA'+str(L+1)]=dA_prev\n",
    "        grads['dW'+str(L+1)]=dW\n",
    "        grads['db'+str(L+1)]=db\n",
    "        \n",
    "    return grads\n"
   ]
  },
  {
   "cell_type": "markdown",
   "metadata": {},
   "source": [
    "# update parameters"
   ]
  },
  {
   "cell_type": "code",
   "execution_count": 88,
   "metadata": {},
   "outputs": [],
   "source": [
    "def update_parameters(parameters,grads,learning_rate):\n",
    "    \"\"\"\n",
    "    Returns:\n",
    "    parameters\n",
    "    \"\"\"\n",
    "    L=len(parameters)//2\n",
    "    for index in range(1,L+1):\n",
    "        parameters['W'+str(L)]-=learning_rate*grads['dW'+str(L)]\n",
    "        parameters['b'+str(L)]-=learning_rate*grads['db'+str(L)]\n",
    "    return parameters\n",
    "    "
   ]
  },
  {
   "cell_type": "markdown",
   "metadata": {},
   "source": [
    "# overall model"
   ]
  },
  {
   "cell_type": "markdown",
   "metadata": {},
   "source": [
    "## pre"
   ]
  },
  {
   "cell_type": "code",
   "execution_count": 89,
   "metadata": {},
   "outputs": [],
   "source": [
    "import time\n",
    "import numpy as np\n",
    "import h5py\n",
    "import matplotlib.pyplot as plt\n",
    "import scipy\n",
    "from PIL import Image\n",
    "from scipy import ndimage\n",
    "from lr_utils import *\n",
    "%matplotlib inline"
   ]
  },
  {
   "cell_type": "code",
   "execution_count": 90,
   "metadata": {},
   "outputs": [],
   "source": [
    "plt.rcParams['figure.figsize']=(5.0,4.0)\n",
    "plt.rcParams['image.interpolation']='nearest'\n",
    "plt.rcParams['image.cmap']='gray'\n",
    "#run configuration\n",
    "np.random.seed(1)"
   ]
  },
  {
   "cell_type": "markdown",
   "metadata": {},
   "source": [
    "## dataset"
   ]
  },
  {
   "cell_type": "code",
   "execution_count": 91,
   "metadata": {},
   "outputs": [],
   "source": [
    "train_x_orig, train_y, test_x_orig, test_y, classes = load_dataset()"
   ]
  },
  {
   "cell_type": "code",
   "execution_count": 92,
   "metadata": {},
   "outputs": [
    {
     "name": "stdout",
     "output_type": "stream",
     "text": [
      "(209, 64, 64, 3)\n",
      "(1, 209)\n",
      "(50, 64, 64, 3)\n",
      "(1, 50)\n",
      "(2,)\n",
      "[b'non-cat' b'cat']\n"
     ]
    }
   ],
   "source": [
    "print(train_x_orig.shape)\n",
    "print(train_y.shape)\n",
    "print(test_x_orig.shape)\n",
    "print(test_y.shape)\n",
    "print(classes.shape)\n",
    "print(classes)"
   ]
  },
  {
   "cell_type": "code",
   "execution_count": 112,
   "metadata": {},
   "outputs": [
    {
     "name": "stdout",
     "output_type": "stream",
     "text": [
      "[0.45098039 0.43137255 0.43529412 ... 0.67058824 0.69019608 0.72941176]\n"
     ]
    }
   ],
   "source": [
    "train_x=train_x_orig.reshape(209,-1).T/255\n",
    "test_x=test_x_orig.reshape(50,-1).T/255\n",
    "print(test_x[:,1])"
   ]
  },
  {
   "cell_type": "markdown",
   "metadata": {},
   "source": [
    "### show a picture"
   ]
  },
  {
   "cell_type": "code",
   "execution_count": 93,
   "metadata": {},
   "outputs": [
    {
     "name": "stdout",
     "output_type": "stream",
     "text": [
      "y=1.It's a cat picture.\n"
     ]
    },
    {
     "data": {
      "image/png": "[encoded data removed]",
      "text/plain": [
       "<Figure size 360x288 with 1 Axes>"
      ]
     },
     "metadata": {
      "needs_background": "light"
     },
     "output_type": "display_data"
    }
   ],
   "source": [
    "index=11\n",
    "plt.imshow(train_x_orig[index])\n",
    "print('y='+str(train_y[0,index])+\".It's a \"+classes[train_y[0,index]].decode('utf-8')+ ' picture.')"
   ]
  },
  {
   "cell_type": "code",
   "execution_count": 115,
   "metadata": {},
   "outputs": [],
   "source": [
    "m_train=train_x_orig.shape[0]\n",
    "m_test=test_x_orig.shape[0]\n",
    "num_px=train_x_orig.shape[1]"
   ]
  },
  {
   "cell_type": "markdown",
   "metadata": {},
   "source": [
    "## two-layer-model"
   ]
  },
  {
   "cell_type": "code",
   "execution_count": 120,
   "metadata": {},
   "outputs": [],
   "source": [
    "n_x=64*64*3\n",
    "n_h=7\n",
    "n_y=1"
   ]
  },
  {
   "cell_type": "code",
   "execution_count": 170,
   "metadata": {},
   "outputs": [],
   "source": [
    "def two_layer_model(X, Y, layers_dims, learning_rate = 0.0075, num_iterations = 3000, print_cost=False):\n",
    "    n_x,n_h,n_y=layers_dims\n",
    "    params=initialize_parameters(n_x,n_h,n_y)\n",
    "    A_previous=X\n",
    "    grads={}\n",
    "    costs=[]\n",
    "    m=X.shape[1]\n",
    "    \n",
    "    for i in range(num_iterations):\n",
    "        W1=params['W1']\n",
    "        b1=params['b1']\n",
    "        W2=params['W2']\n",
    "        b2=params['b2']\n",
    "        A1,cache1=linear_activation_forward(A_previous,W1,b1,'relu')\n",
    "        A2,cache2=linear_activation_forward(A1,W2,b2,'sigmoid')\n",
    "        \n",
    "        cost=compute_cost(A2,Y)\n",
    "        \n",
    "        dA2=-(np.divide(Y,A2)-np.divide(1-Y,1-A2))\n",
    "        dA1,dW2,db2=linear_activation_backward(dA2,cache2,'sigmoid')\n",
    "        dA0,dW1,db1=linear_activation_backward(dA1,cache1,'relu')\n",
    "        \n",
    "        grads['dW1']=dW1\n",
    "        grads['dW2']=dW2\n",
    "        grads['db1']=db1\n",
    "        grads['db2']=db2\n",
    "\n",
    "        params=update_parameters(params,grads,learning_rate)\n",
    "        \n",
    "        if print_cost==True and i%100==0:\n",
    "            print('cost if iteration {} is :{}'.format(i,np.squeeze(cost)))\n",
    "        if i%100==0:\n",
    "            costs.append(cost)\n",
    "    \n",
    "    plt.plot(np.squeeze(costs))\n",
    "    plt.ylabel('cost')\n",
    "    plt.xlabel('iterations (per tens)')\n",
    "    plt.title(\"Learning rate =\" + str(learning_rate))\n",
    "    plt.show()\n",
    "    return params\n",
    "        "
   ]
  },
  {
   "cell_type": "code",
   "execution_count": 171,
   "metadata": {},
   "outputs": [
    {
     "name": "stdout",
     "output_type": "stream",
     "text": [
      "cost if iteration 0 is :0.6928764721854479\n",
      "cost if iteration 100 is :0.6668272946902015\n",
      "cost if iteration 200 is :0.6549503163335703\n",
      "cost if iteration 300 is :0.6494305439741426\n",
      "cost if iteration 400 is :0.6468022802092679\n",
      "cost if iteration 500 is :0.6455102690141772\n",
      "cost if iteration 600 is :0.6448444794711786\n",
      "cost if iteration 700 is :0.6444755924431472\n",
      "cost if iteration 800 is :0.6442489127510613\n",
      "cost if iteration 900 is :0.6440910688787717\n",
      "cost if iteration 1000 is :0.6439670112244946\n",
      "cost if iteration 1100 is :0.643859907492897\n",
      "cost if iteration 1200 is :0.6437616407905769\n",
      "cost if iteration 1300 is :0.6436682828596827\n",
      "cost if iteration 1400 is :0.6435779250484995\n",
      "cost if iteration 1500 is :0.6434896347336667\n",
      "cost if iteration 1600 is :0.64340295177051\n",
      "cost if iteration 1700 is :0.6433176450258312\n",
      "cost if iteration 1800 is :0.6432335944954151\n",
      "cost if iteration 1900 is :0.643150734172481\n",
      "cost if iteration 2000 is :0.6430690243411068\n",
      "cost if iteration 2100 is :0.6429884381339817\n",
      "cost if iteration 2200 is :0.6429089550089844\n",
      "cost if iteration 2300 is :0.6428305575828653\n",
      "cost if iteration 2400 is :0.6427532300941324\n"
     ]
    },
    {
     "data": {
      "image/png": "[encoded data removed]",
      "text/plain": [
       "<Figure size 360x288 with 1 Axes>"
      ]
     },
     "metadata": {
      "needs_background": "light"
     },
     "output_type": "display_data"
    }
   ],
   "source": [
    "parameters = two_layer_model(train_x, train_y, layers_dims = (n_x,n_h,n_y), num_iterations = 2500, print_cost=True)"
   ]
  }
 ],
 "metadata": {
  "kernelspec": {
   "display_name": "Python 3",
   "language": "python",
   "name": "python3"
  },
  "language_info": {
   "codemirror_mode": {
    "name": "ipython",
    "version": 3
   },
   "file_extension": ".py",
   "mimetype": "text/x-python",
   "name": "python",
   "nbconvert_exporter": "python",
   "pygments_lexer": "ipython3",
   "version": "3.7.6"
  },
  "toc": {
   "base_numbering": 1,
   "nav_menu": {},
   "number_sections": true,
   "sideBar": true,
   "skip_h1_title": false,
   "title_cell": "Table of Contents",
   "title_sidebar": "Contents",
   "toc_cell": false,
   "toc_position": {
    "height": "calc(100% - 180px)",
    "left": "10px",
    "top": "150px",
    "width": "200px"
   },
   "toc_section_display": true,
   "toc_window_display": true
  }
 },
 "nbformat": 4,
 "nbformat_minor": 4
}
